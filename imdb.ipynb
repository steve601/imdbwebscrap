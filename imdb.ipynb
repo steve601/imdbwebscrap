{
 "cells": [
  {
   "cell_type": "markdown",
   "id": "50f63787-bbe9-43e8-a89f-75df73007c53",
   "metadata": {},
   "source": [
    "## importing core libraries"
   ]
  },
  {
   "cell_type": "code",
   "execution_count": 1,
   "id": "d19dd8de-1b7b-46ba-9bb1-514424d46d9b",
   "metadata": {},
   "outputs": [],
   "source": [
    "import requests\n",
    "import pandas as pd\n",
    "from bs4 import BeautifulSoup\n",
    "import time"
   ]
  },
  {
   "cell_type": "markdown",
   "id": "a1f8bd46-f055-4c8f-8a38-346531af7470",
   "metadata": {},
   "source": [
    "## making a response to the target url,we use 'User agent' in orde to bypass the forbidden error"
   ]
  },
  {
   "cell_type": "code",
   "execution_count": 2,
   "id": "23fc5706-e6e9-49b2-8d7f-bd0211443fec",
   "metadata": {},
   "outputs": [],
   "source": [
    "url = 'https://www.imdb.com/list/ls048276758/'\n",
    "headers = {\n",
    "    'User-agent':\"Mozilla/5.0 (Windows NT 10.0; Win64; x64) AppleWebKit/537.36 (KHTML, like Gecko) Chrome/91.0.4472.124 Safari/537.36\"\n",
    "}\n",
    "time.sleep(20)\n",
    "response = requests.get(url, headers=headers)\n",
    "soup = BeautifulSoup(response.text,'html.parser')"
   ]
  },
  {
   "cell_type": "markdown",
   "id": "1391a9db-8674-4fe5-bc87-499f4baf279d",
   "metadata": {},
   "source": [
    "## extracting the names of the movie"
   ]
  },
  {
   "cell_type": "code",
   "execution_count": 3,
   "id": "67829401-dda7-4708-b9bf-1743680fec71",
   "metadata": {},
   "outputs": [],
   "source": [
    "time.sleep(10)\n",
    "names = soup.find_all('h3',class_ = 'ipc-title__text')"
   ]
  },
  {
   "cell_type": "code",
   "execution_count": 4,
   "id": "b0027512-371a-4db2-9134-a0c8d7fe1a6f",
   "metadata": {},
   "outputs": [],
   "source": [
    "movie_names = list()\n",
    "for name in names:\n",
    "    movie_names.append(name.text)"
   ]
  },
  {
   "cell_type": "code",
   "execution_count": 5,
   "id": "77eee2f3-58bf-4dba-a1b8-7a241f38ff69",
   "metadata": {},
   "outputs": [
    {
     "data": {
      "text/plain": [
       "27"
      ]
     },
     "execution_count": 5,
     "metadata": {},
     "output_type": "execute_result"
    }
   ],
   "source": [
    "len(movie_names)"
   ]
  },
  {
   "cell_type": "markdown",
   "id": "ad3b49b8-683e-4cc7-b1fe-806fc3172328",
   "metadata": {},
   "source": [
    "## scraping the overview of the movie"
   ]
  },
  {
   "cell_type": "code",
   "execution_count": 6,
   "id": "0ce986ec-58b9-4328-9f83-cf31528ef268",
   "metadata": {},
   "outputs": [],
   "source": [
    "descriptions = soup.find_all('div',class_ = 'ipc-html-content-inner-div')"
   ]
  },
  {
   "cell_type": "code",
   "execution_count": 7,
   "id": "bfbf03e6-e1ca-4b7a-84c0-7e2800839964",
   "metadata": {},
   "outputs": [],
   "source": [
    "movie_description = list()\n",
    "for dec in descriptions:\n",
    "    movie_description.append(dec.text)"
   ]
  },
  {
   "cell_type": "code",
   "execution_count": 8,
   "id": "75af1014-bb6d-4851-a3da-429968edb827",
   "metadata": {},
   "outputs": [
    {
     "data": {
      "text/plain": [
       "'When the police in a German city are unable to catch a child-murderer, other criminals join in the manhunt.'"
      ]
     },
     "execution_count": 8,
     "metadata": {},
     "output_type": "execute_result"
    }
   ],
   "source": [
    "movie_description[-1]"
   ]
  },
  {
   "cell_type": "code",
   "execution_count": 9,
   "id": "9f553509-f2c0-461f-b45b-5fa91f0a8f77",
   "metadata": {},
   "outputs": [
    {
     "data": {
      "text/plain": [
       "'Don Vito Corleone, head of a mafia family, decides to hand over his empire to his youngest son, Michael. However, his decision unintentionally puts the lives of his loved ones in grave danger.'"
      ]
     },
     "execution_count": 9,
     "metadata": {},
     "output_type": "execute_result"
    }
   ],
   "source": [
    "movie_description = movie_description[1:]\n",
    "movie_description[0]"
   ]
  },
  {
   "cell_type": "markdown",
   "id": "9be8b1fb-6092-45d5-b3e7-de6f59308b44",
   "metadata": {},
   "source": [
    "## scraping the duration and year"
   ]
  },
  {
   "cell_type": "code",
   "execution_count": 10,
   "id": "4b48e390-8805-4fb4-b71f-8252219954bf",
   "metadata": {},
   "outputs": [],
   "source": [
    "contents = soup.find_all('span',class_='sc-b189961a-8 kLaxqf dli-title-metadata-item')"
   ]
  },
  {
   "cell_type": "code",
   "execution_count": 11,
   "id": "2b0c717d-5b15-4917-a876-b2d585351a1a",
   "metadata": {},
   "outputs": [],
   "source": [
    "movie_contents = []\n",
    "for cn in contents:\n",
    "    movie_contents.append(cn.text)"
   ]
  },
  {
   "cell_type": "code",
   "execution_count": 12,
   "id": "6f2279ff-30fd-4dc0-a627-0d8fd312f9af",
   "metadata": {},
   "outputs": [
    {
     "data": {
      "text/plain": [
       "['1972',\n",
       " '2h 55m',\n",
       " 'R',\n",
       " '1953',\n",
       " '2h 16m',\n",
       " 'Not Rated',\n",
       " '1954',\n",
       " '3h 27m',\n",
       " 'Not Rated',\n",
       " '1974']"
      ]
     },
     "execution_count": 12,
     "metadata": {},
     "output_type": "execute_result"
    }
   ],
   "source": [
    "movie_contents[:10]"
   ]
  },
  {
   "cell_type": "code",
   "execution_count": 13,
   "id": "b36a1c78-54ae-4afc-b3fa-478e326451ef",
   "metadata": {},
   "outputs": [],
   "source": [
    "movie_year = [movie_contents[x] for x in range(0,len(movie_contents),3)]"
   ]
  },
  {
   "cell_type": "code",
   "execution_count": 14,
   "id": "43c5ed53-ee78-489b-8902-34ef34bcced9",
   "metadata": {},
   "outputs": [
    {
     "data": {
      "text/plain": [
       "['1972',\n",
       " '1953',\n",
       " '1954',\n",
       " '1974',\n",
       " '1942',\n",
       " '1941',\n",
       " '1962',\n",
       " '1957',\n",
       " '1950',\n",
       " '1985']"
      ]
     },
     "execution_count": 14,
     "metadata": {},
     "output_type": "execute_result"
    }
   ],
   "source": [
    "movie_year[:10]"
   ]
  },
  {
   "cell_type": "code",
   "execution_count": 15,
   "id": "4deea82b-415b-4672-b7ba-affcd3ae3aad",
   "metadata": {},
   "outputs": [],
   "source": [
    "movie_duration = [movie_contents[x] for x in range(1,len(movie_contents),3)]"
   ]
  },
  {
   "cell_type": "code",
   "execution_count": 16,
   "id": "88ac5b72-8b9b-4024-a4b0-661e25337941",
   "metadata": {},
   "outputs": [
    {
     "data": {
      "text/plain": [
       "['2h 55m', '2h 16m', '3h 27m', '3h 22m', '1h 42m']"
      ]
     },
     "execution_count": 16,
     "metadata": {},
     "output_type": "execute_result"
    }
   ],
   "source": [
    "movie_duration[:5]"
   ]
  },
  {
   "cell_type": "markdown",
   "id": "ea01914c-be8e-41c5-addf-9843c5663a50",
   "metadata": {},
   "source": [
    "## extracting the ratings"
   ]
  },
  {
   "cell_type": "code",
   "execution_count": 17,
   "id": "b1d8091f-1cb2-4d1a-87c1-6bd9b7040187",
   "metadata": {},
   "outputs": [],
   "source": [
    "ratings = soup.find_all('span',class_ = \"ipc-rating-star ipc-rating-star--base ipc-rating-star--imdb ratingGroup--imdb-rating\")"
   ]
  },
  {
   "cell_type": "code",
   "execution_count": 18,
   "id": "17b8b3a9-df43-4e94-b75a-7e68e58cc73c",
   "metadata": {},
   "outputs": [],
   "source": [
    "movie_ratings = []\n",
    "for rat in ratings:\n",
    "    movie_ratings.append(rat.text.split(\"\\xa0\")[0])"
   ]
  },
  {
   "cell_type": "code",
   "execution_count": 19,
   "id": "9531a5bb-72ef-42d5-ab3d-af0ea238018c",
   "metadata": {},
   "outputs": [
    {
     "data": {
      "text/plain": [
       "['9.2', '8.1', '8.6', '9.0', '8.5']"
      ]
     },
     "execution_count": 19,
     "metadata": {},
     "output_type": "execute_result"
    }
   ],
   "source": [
    "movie_ratings[:5]"
   ]
  },
  {
   "cell_type": "markdown",
   "id": "9c96c887-c941-453a-8659-89d39d23cd35",
   "metadata": {},
   "source": [
    "## extracting the urls for the poster of movies"
   ]
  },
  {
   "cell_type": "code",
   "execution_count": 20,
   "id": "ec49c70a-a3a1-4c50-a30c-537a868eb2e4",
   "metadata": {},
   "outputs": [],
   "source": [
    "imageURLs = soup.find_all('img',class_ = 'ipc-image')"
   ]
  },
  {
   "cell_type": "code",
   "execution_count": 21,
   "id": "99fc118c-976a-4cdc-b0f2-0ace07fbc8de",
   "metadata": {},
   "outputs": [],
   "source": [
    "movie_poster_url = list()\n",
    "for url in imageURLs:\n",
    "    movie_poster_url.append(url['src'])"
   ]
  },
  {
   "cell_type": "markdown",
   "id": "cc13fa5c-ca3e-4f32-b61b-fe7ee978e6f6",
   "metadata": {},
   "source": [
    "## creating a dataframe"
   ]
  },
  {
   "cell_type": "code",
   "execution_count": 22,
   "id": "181cd8b5-5026-4580-82d7-ab85f5b1bc43",
   "metadata": {},
   "outputs": [],
   "source": [
    "movie_data = list(zip(movie_names, movie_description, movie_poster_url, movie_year, movie_duration, movie_ratings))\n",
    "columns = ['Name','Overview','Poster_imG_url','Year','Duration','Ratings']\n",
    "df = pd.DataFrame(movie_data,columns=columns)"
   ]
  },
  {
   "cell_type": "code",
   "execution_count": 23,
   "id": "edb73030-a3bd-488d-87e0-f27639a489c0",
   "metadata": {},
   "outputs": [
    {
     "data": {
      "text/html": [
       "<div>\n",
       "<style scoped>\n",
       "    .dataframe tbody tr th:only-of-type {\n",
       "        vertical-align: middle;\n",
       "    }\n",
       "\n",
       "    .dataframe tbody tr th {\n",
       "        vertical-align: top;\n",
       "    }\n",
       "\n",
       "    .dataframe thead th {\n",
       "        text-align: right;\n",
       "    }\n",
       "</style>\n",
       "<table border=\"1\" class=\"dataframe\">\n",
       "  <thead>\n",
       "    <tr style=\"text-align: right;\">\n",
       "      <th></th>\n",
       "      <th>Name</th>\n",
       "      <th>Overview</th>\n",
       "      <th>Poster_imG_url</th>\n",
       "      <th>Year</th>\n",
       "      <th>Duration</th>\n",
       "      <th>Ratings</th>\n",
       "    </tr>\n",
       "  </thead>\n",
       "  <tbody>\n",
       "    <tr>\n",
       "      <th>0</th>\n",
       "      <td>1. The Godfather</td>\n",
       "      <td>Don Vito Corleone, head of a mafia family, dec...</td>\n",
       "      <td>https://m.media-amazon.com/images/M/MV5BM2MyNj...</td>\n",
       "      <td>1972</td>\n",
       "      <td>2h 55m</td>\n",
       "      <td>9.2</td>\n",
       "    </tr>\n",
       "    <tr>\n",
       "      <th>1</th>\n",
       "      <td>2. Tôkyô monogatari</td>\n",
       "      <td>An old couple visit their children and grandch...</td>\n",
       "      <td>https://m.media-amazon.com/images/M/MV5BM2E1Zm...</td>\n",
       "      <td>1953</td>\n",
       "      <td>2h 16m</td>\n",
       "      <td>8.1</td>\n",
       "    </tr>\n",
       "    <tr>\n",
       "      <th>2</th>\n",
       "      <td>3. Shichinin no samurai</td>\n",
       "      <td>Farmers from a village exploited by bandits hi...</td>\n",
       "      <td>https://m.media-amazon.com/images/M/MV5BNTkwY2...</td>\n",
       "      <td>1954</td>\n",
       "      <td>3h 27m</td>\n",
       "      <td>8.6</td>\n",
       "    </tr>\n",
       "    <tr>\n",
       "      <th>3</th>\n",
       "      <td>4. The Godfather Part II</td>\n",
       "      <td>The early life and career of Vito Corleone in ...</td>\n",
       "      <td>https://m.media-amazon.com/images/M/MV5BMWMwMG...</td>\n",
       "      <td>1974</td>\n",
       "      <td>3h 22m</td>\n",
       "      <td>9.0</td>\n",
       "    </tr>\n",
       "    <tr>\n",
       "      <th>4</th>\n",
       "      <td>5. Casablanca</td>\n",
       "      <td>A cynical expatriate American cafe owner strug...</td>\n",
       "      <td>https://m.media-amazon.com/images/M/MV5BY2IzZG...</td>\n",
       "      <td>1942</td>\n",
       "      <td>1h 42m</td>\n",
       "      <td>8.5</td>\n",
       "    </tr>\n",
       "  </tbody>\n",
       "</table>\n",
       "</div>"
      ],
      "text/plain": [
       "                       Name  \\\n",
       "0          1. The Godfather   \n",
       "1       2. Tôkyô monogatari   \n",
       "2   3. Shichinin no samurai   \n",
       "3  4. The Godfather Part II   \n",
       "4             5. Casablanca   \n",
       "\n",
       "                                            Overview  \\\n",
       "0  Don Vito Corleone, head of a mafia family, dec...   \n",
       "1  An old couple visit their children and grandch...   \n",
       "2  Farmers from a village exploited by bandits hi...   \n",
       "3  The early life and career of Vito Corleone in ...   \n",
       "4  A cynical expatriate American cafe owner strug...   \n",
       "\n",
       "                                      Poster_imG_url  Year Duration Ratings  \n",
       "0  https://m.media-amazon.com/images/M/MV5BM2MyNj...  1972   2h 55m     9.2  \n",
       "1  https://m.media-amazon.com/images/M/MV5BM2E1Zm...  1953   2h 16m     8.1  \n",
       "2  https://m.media-amazon.com/images/M/MV5BNTkwY2...  1954   3h 27m     8.6  \n",
       "3  https://m.media-amazon.com/images/M/MV5BMWMwMG...  1974   3h 22m     9.0  \n",
       "4  https://m.media-amazon.com/images/M/MV5BY2IzZG...  1942   1h 42m     8.5  "
      ]
     },
     "execution_count": 23,
     "metadata": {},
     "output_type": "execute_result"
    }
   ],
   "source": [
    "df.head()"
   ]
  },
  {
   "cell_type": "markdown",
   "id": "9a0f9b86-433c-44cc-807c-23c6d0f69a08",
   "metadata": {},
   "source": [
    "## saving data"
   ]
  },
  {
   "cell_type": "code",
   "execution_count": 24,
   "id": "3b98ed86-f56a-433e-940d-4dd526f6eed2",
   "metadata": {},
   "outputs": [],
   "source": [
    "df.to_csv('IMDB_MOVIES.csv')"
   ]
  },
  {
   "cell_type": "code",
   "execution_count": null,
   "id": "de131334-36b4-4068-9f81-51c3d1817cb2",
   "metadata": {},
   "outputs": [],
   "source": []
  }
 ],
 "metadata": {
  "kernelspec": {
   "display_name": "deepgpu",
   "language": "python",
   "name": "deepgpu"
  },
  "language_info": {
   "codemirror_mode": {
    "name": "ipython",
    "version": 3
   },
   "file_extension": ".py",
   "mimetype": "text/x-python",
   "name": "python",
   "nbconvert_exporter": "python",
   "pygments_lexer": "ipython3",
   "version": "3.10.14"
  }
 },
 "nbformat": 4,
 "nbformat_minor": 5
}
